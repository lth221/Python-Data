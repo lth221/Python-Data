{
 "cells": [
  {
   "cell_type": "code",
   "execution_count": null,
   "id": "0dd050b1",
   "metadata": {},
   "outputs": [],
   "source": [
    "# 열 삭제 (drop column)\n",
    "df.drop('column_name', axis=1, inplace=True)\n",
    "df.drop(df.columns[[0, 1, 3]], axis=1)\n",
    "\n",
    "# make dataframe\n",
    "pd.DataFrame(object)\n",
    "\n",
    "# rename column\n",
    "df.rename({\"old\":\"new\"}, axis=1)\n",
    "\n",
    "# reset index\n",
    "df.reset_index(inplace=True)\n",
    "\n",
    "# merge dataframes\n",
    "pd.merge(x, y, on = \"key column\", how=\"inner/outer\")\n",
    "\n",
    "# concat dataframes\n",
    "pd.concat([x,y])"
   ]
  }
 ],
 "metadata": {
  "kernelspec": {
   "display_name": "Python 3",
   "language": "python",
   "name": "python3"
  },
  "language_info": {
   "codemirror_mode": {
    "name": "ipython",
    "version": 3
   },
   "file_extension": ".py",
   "mimetype": "text/x-python",
   "name": "python",
   "nbconvert_exporter": "python",
   "pygments_lexer": "ipython3",
   "version": "3.8.8"
  }
 },
 "nbformat": 4,
 "nbformat_minor": 5
}
